{
  "nbformat": 4,
  "nbformat_minor": 0,
  "metadata": {
    "colab": {
      "provenance": [],
      "authorship_tag": "ABX9TyNMaNkobM7qu+U2La1ycJ1n",
      "include_colab_link": true
    },
    "kernelspec": {
      "name": "python3",
      "display_name": "Python 3"
    },
    "language_info": {
      "name": "python"
    },
    "accelerator": "GPU",
    "gpuClass": "standard"
  },
  "cells": [
    {
      "cell_type": "markdown",
      "metadata": {
        "id": "view-in-github",
        "colab_type": "text"
      },
      "source": [
        "<a href=\"https://colab.research.google.com/github/viksit-siddhant/Variatonal-Autoencoder/blob/main/VAE.ipynb\" target=\"_parent\"><img src=\"https://colab.research.google.com/assets/colab-badge.svg\" alt=\"Open In Colab\"/></a>"
      ]
    },
    {
      "cell_type": "code",
      "execution_count": null,
      "metadata": {
        "id": "9mP8yePCHhiV"
      },
      "outputs": [],
      "source": [
        "import keras\n",
        "from keras import layers\n",
        "import numpy as np\n",
        "import tensorflow as tf\n",
        "\n",
        "class Sampler(layers.Layer):\n",
        "\n",
        "    def call(self, inputs):\n",
        "        z_mean, z_var = inputs\n",
        "        return z_mean + tf.exp(z_var)*tf.keras.backend.random_normal(shape=tf.shape(z_mean))"
      ]
    },
    {
      "cell_type": "code",
      "source": [
        "enc_input = keras.layers.Input((28,28,1))\n",
        "\n",
        "x = keras.layers.Conv2D(32,3,strides=2,padding='same',activation='relu')(enc_input)\n",
        "x = keras.layers.Conv2D(64,3,strides=2,padding='same',activation='relu')(x)\n",
        "\n",
        "x = keras.layers.Flatten()(x)\n",
        "\n",
        "x = keras.layers.Dense(16, activation = 'relu')(x)\n",
        "\n",
        "z_mean = keras.layers.Dense(3)(x)\n",
        "z_var = keras.layers.Dense(3)(x)\n",
        "\n",
        "z = Sampler()([z_mean,z_var])\n",
        "\n",
        "encoder = keras.Model(enc_input,[z_mean,z_var,z])\n",
        "encoder.summary()"
      ],
      "metadata": {
        "colab": {
          "base_uri": "https://localhost:8080/"
        },
        "id": "rHvuzXSsJrDd",
        "outputId": "16fcdaac-2336-4890-b389-7584c6bee317"
      },
      "execution_count": null,
      "outputs": [
        {
          "output_type": "stream",
          "name": "stdout",
          "text": [
            "Model: \"model_9\"\n",
            "__________________________________________________________________________________________________\n",
            " Layer (type)                   Output Shape         Param #     Connected to                     \n",
            "==================================================================================================\n",
            " input_11 (InputLayer)          [(None, 28, 28, 1)]  0           []                               \n",
            "                                                                                                  \n",
            " conv2d_12 (Conv2D)             (None, 14, 14, 32)   320         ['input_11[0][0]']               \n",
            "                                                                                                  \n",
            " conv2d_13 (Conv2D)             (None, 7, 7, 64)     18496       ['conv2d_12[0][0]']              \n",
            "                                                                                                  \n",
            " flatten_5 (Flatten)            (None, 3136)         0           ['conv2d_13[0][0]']              \n",
            "                                                                                                  \n",
            " dense_15 (Dense)               (None, 16)           50192       ['flatten_5[0][0]']              \n",
            "                                                                                                  \n",
            " dense_16 (Dense)               (None, 3)            51          ['dense_15[0][0]']               \n",
            "                                                                                                  \n",
            " dense_17 (Dense)               (None, 3)            51          ['dense_15[0][0]']               \n",
            "                                                                                                  \n",
            " sampler_4 (Sampler)            (None, 3)            0           ['dense_16[0][0]',               \n",
            "                                                                  'dense_17[0][0]']               \n",
            "                                                                                                  \n",
            "==================================================================================================\n",
            "Total params: 69,110\n",
            "Trainable params: 69,110\n",
            "Non-trainable params: 0\n",
            "__________________________________________________________________________________________________\n"
          ]
        }
      ]
    },
    {
      "cell_type": "code",
      "source": [
        "dec_inc = keras.layers.Input(shape=(3))\n",
        "x = keras.layers.Dense(7*7*64)(dec_inc)\n",
        "x = keras.layers.Reshape((7,7,64))(x)\n",
        "\n",
        "x = layers.Conv2DTranspose(64, 3, activation=\"relu\", strides=2, padding=\"same\")(x)\n",
        "x = layers.Conv2DTranspose(32, 3, activation=\"relu\", strides=2, padding=\"same\")(x)\n",
        "decoder_outputs = layers.Conv2DTranspose(1, 3, activation=\"sigmoid\", padding=\"same\")(x)\n",
        "decoder = keras.Model(dec_inc, decoder_outputs, name=\"decoder\")\n",
        "decoder.summary()"
      ],
      "metadata": {
        "colab": {
          "base_uri": "https://localhost:8080/"
        },
        "id": "1yzo4u73Mr4I",
        "outputId": "60b07495-73ef-485c-9762-7e48cf520981"
      },
      "execution_count": null,
      "outputs": [
        {
          "output_type": "stream",
          "name": "stdout",
          "text": [
            "Model: \"decoder\"\n",
            "_________________________________________________________________\n",
            " Layer (type)                Output Shape              Param #   \n",
            "=================================================================\n",
            " input_12 (InputLayer)       [(None, 3)]               0         \n",
            "                                                                 \n",
            " dense_18 (Dense)            (None, 3136)              12544     \n",
            "                                                                 \n",
            " reshape_3 (Reshape)         (None, 7, 7, 64)          0         \n",
            "                                                                 \n",
            " conv2d_transpose_9 (Conv2DT  (None, 14, 14, 64)       36928     \n",
            " ranspose)                                                       \n",
            "                                                                 \n",
            " conv2d_transpose_10 (Conv2D  (None, 28, 28, 32)       18464     \n",
            " Transpose)                                                      \n",
            "                                                                 \n",
            " conv2d_transpose_11 (Conv2D  (None, 28, 28, 1)        289       \n",
            " Transpose)                                                      \n",
            "                                                                 \n",
            "=================================================================\n",
            "Total params: 68,225\n",
            "Trainable params: 68,225\n",
            "Non-trainable params: 0\n",
            "_________________________________________________________________\n"
          ]
        }
      ]
    },
    {
      "cell_type": "code",
      "source": [
        "class model(keras.Model):\n",
        "    def __init__(self,encoder,decoder,**kwargs):\n",
        "        super(model,self).__init__(**kwargs)\n",
        "        self.encoder = encoder\n",
        "        self.decoder = decoder\n",
        "        self.total_loss = keras.metrics.Mean(name='total')\n",
        "        self.recon_loss = keras.metrics.Mean(name='recon')\n",
        "        self.kl_loss = keras.metrics.Mean(name='KL')\n",
        "\n",
        "    @property\n",
        "    def metrics(self):\n",
        "        return [self.total_loss,self.recon_loss,self.kl_loss]\n",
        "    \n",
        "\n",
        "    def train_step(self,data):\n",
        "        with tf.GradientTape() as tape:\n",
        "            z_mean,z_log_var,z = self.encoder(data)\n",
        "            recon = self.decoder(z)\n",
        "            recon_loss = tf.reduce_mean(tf.reduce_sum(keras.losses.binary_crossentropy(data,recon),axis=(1,2)))\n",
        "            kl_loss = tf.square(z_mean) + tf.exp(z_log_var) - 1 - z_log_var\n",
        "            kl_loss = tf.reduce_mean(tf.reduce_sum(kl_loss,axis=1))\n",
        "            total_loss = recon_loss + kl_loss\n",
        "            grads = tape.gradient(total_loss,self.trainable_weights)\n",
        "            self.optimizer.apply_gradients(zip(grads,self.trainable_weights))\n",
        "            self.total_loss.update_state(total_loss)\n",
        "            self.recon_loss.update_state(recon_loss)\n",
        "            self.kl_loss.update_state(kl_loss)\n",
        "            return {\n",
        "            \"loss\": self.total_loss.result(),\n",
        "            \"reconstruction_loss\": self.recon_loss.result(),\n",
        "            \"kl_loss\": self.kl_loss.result(),\n",
        "            }\n",
        "    "
      ],
      "metadata": {
        "id": "hAm0VfbGRRZR"
      },
      "execution_count": null,
      "outputs": []
    },
    {
      "cell_type": "code",
      "source": [
        "(x_train,y_train),(x_test,y_test) = keras.datasets.mnist.load_data()\n",
        "mnist_digits = np.concatenate([x_train, x_test], axis=0)\n",
        "mnist_digits = np.expand_dims(mnist_digits, -1).astype(\"float32\") / 255\n",
        "\n",
        "vae = model(encoder, decoder)\n",
        "vae.compile(optimizer=tf.keras.optimizers.Adam())\n",
        "vae.fit(mnist_digits, epochs=30, batch_size=128) "
      ],
      "metadata": {
        "colab": {
          "base_uri": "https://localhost:8080/"
        },
        "id": "jfpPJq50cNdH",
        "outputId": "8776e737-4a14-43af-e387-549729ad19ef"
      },
      "execution_count": null,
      "outputs": [
        {
          "output_type": "stream",
          "name": "stdout",
          "text": [
            "Epoch 1/30\n",
            "547/547 [==============================] - 6s 9ms/step - loss: 252.7129 - reconstruction_loss: 248.7973 - kl_loss: 3.9156\n",
            "Epoch 2/30\n",
            "547/547 [==============================] - 5s 9ms/step - loss: 190.1078 - reconstruction_loss: 187.0048 - kl_loss: 3.1031\n",
            "Epoch 3/30\n",
            "547/547 [==============================] - 5s 9ms/step - loss: 180.0762 - reconstruction_loss: 176.0700 - kl_loss: 4.0063\n",
            "Epoch 4/30\n",
            "547/547 [==============================] - 5s 9ms/step - loss: 155.7760 - reconstruction_loss: 148.3404 - kl_loss: 7.4356\n",
            "Epoch 5/30\n",
            "547/547 [==============================] - 5s 9ms/step - loss: 149.2558 - reconstruction_loss: 141.3951 - kl_loss: 7.8606\n",
            "Epoch 6/30\n",
            "547/547 [==============================] - 5s 9ms/step - loss: 146.7624 - reconstruction_loss: 138.8403 - kl_loss: 7.9222\n",
            "Epoch 7/30\n",
            "547/547 [==============================] - 5s 9ms/step - loss: 145.1130 - reconstruction_loss: 137.1640 - kl_loss: 7.9490\n",
            "Epoch 8/30\n",
            "547/547 [==============================] - 5s 9ms/step - loss: 144.0171 - reconstruction_loss: 136.0901 - kl_loss: 7.9270\n",
            "Epoch 9/30\n",
            "547/547 [==============================] - 5s 9ms/step - loss: 143.2852 - reconstruction_loss: 135.3538 - kl_loss: 7.9314\n",
            "Epoch 10/30\n",
            "547/547 [==============================] - 5s 9ms/step - loss: 142.4322 - reconstruction_loss: 134.5200 - kl_loss: 7.9122\n",
            "Epoch 11/30\n",
            "547/547 [==============================] - 5s 9ms/step - loss: 142.3101 - reconstruction_loss: 134.4265 - kl_loss: 7.8836\n",
            "Epoch 12/30\n",
            "547/547 [==============================] - 5s 9ms/step - loss: 141.2502 - reconstruction_loss: 133.3530 - kl_loss: 7.8973\n",
            "Epoch 13/30\n",
            "547/547 [==============================] - 5s 9ms/step - loss: 140.7746 - reconstruction_loss: 132.8763 - kl_loss: 7.8983\n",
            "Epoch 14/30\n",
            "547/547 [==============================] - 5s 9ms/step - loss: 140.5136 - reconstruction_loss: 132.6305 - kl_loss: 7.8830\n",
            "Epoch 15/30\n",
            "547/547 [==============================] - 5s 9ms/step - loss: 140.0615 - reconstruction_loss: 132.1658 - kl_loss: 7.8956\n",
            "Epoch 16/30\n",
            "547/547 [==============================] - 5s 9ms/step - loss: 139.5692 - reconstruction_loss: 131.6835 - kl_loss: 7.8857\n",
            "Epoch 17/30\n",
            "547/547 [==============================] - 5s 9ms/step - loss: 139.6092 - reconstruction_loss: 131.7175 - kl_loss: 7.8917\n",
            "Epoch 18/30\n",
            "547/547 [==============================] - 5s 9ms/step - loss: 139.3238 - reconstruction_loss: 131.4001 - kl_loss: 7.9237\n",
            "Epoch 19/30\n",
            "547/547 [==============================] - 5s 9ms/step - loss: 139.4678 - reconstruction_loss: 131.5536 - kl_loss: 7.9142\n",
            "Epoch 20/30\n",
            "547/547 [==============================] - 5s 9ms/step - loss: 138.9775 - reconstruction_loss: 131.0605 - kl_loss: 7.9170\n",
            "Epoch 21/30\n",
            "547/547 [==============================] - 5s 9ms/step - loss: 138.9851 - reconstruction_loss: 131.0634 - kl_loss: 7.9217\n",
            "Epoch 22/30\n",
            "547/547 [==============================] - 5s 9ms/step - loss: 138.8936 - reconstruction_loss: 130.9432 - kl_loss: 7.9504\n",
            "Epoch 23/30\n",
            "547/547 [==============================] - 5s 9ms/step - loss: 138.2096 - reconstruction_loss: 130.2616 - kl_loss: 7.9479\n",
            "Epoch 24/30\n",
            "547/547 [==============================] - 5s 9ms/step - loss: 138.2441 - reconstruction_loss: 130.2614 - kl_loss: 7.9827\n",
            "Epoch 25/30\n",
            "547/547 [==============================] - 5s 9ms/step - loss: 138.4607 - reconstruction_loss: 130.4830 - kl_loss: 7.9777\n",
            "Epoch 26/30\n",
            "547/547 [==============================] - 5s 9ms/step - loss: 138.0019 - reconstruction_loss: 130.0175 - kl_loss: 7.9844\n",
            "Epoch 27/30\n",
            "547/547 [==============================] - 5s 9ms/step - loss: 137.9080 - reconstruction_loss: 129.9037 - kl_loss: 8.0044\n",
            "Epoch 28/30\n",
            "547/547 [==============================] - 5s 9ms/step - loss: 137.7944 - reconstruction_loss: 129.8035 - kl_loss: 7.9910\n",
            "Epoch 29/30\n",
            "547/547 [==============================] - 5s 9ms/step - loss: 137.5034 - reconstruction_loss: 129.5255 - kl_loss: 7.9779\n",
            "Epoch 30/30\n",
            "547/547 [==============================] - 5s 9ms/step - loss: 137.3980 - reconstruction_loss: 129.4173 - kl_loss: 7.9807\n"
          ]
        },
        {
          "output_type": "execute_result",
          "data": {
            "text/plain": [
              "<keras.callbacks.History at 0x7f247d85bd90>"
            ]
          },
          "metadata": {},
          "execution_count": 58
        }
      ]
    },
    {
      "cell_type": "code",
      "source": [
        "import matplotlib.pyplot as plt\n",
        "\n",
        "rand_im = mnist_digits[np.random.randint(0,60000-1)]\n",
        "#print(rand_im.shape)\n",
        "\n",
        "fig, (orig, decoded) = plt.subplots(2)\n",
        "\n",
        "orig.imshow(rand_im.reshape((28,28)))\n",
        "_,_,z = vae.encoder.predict(rand_im.reshape([1,28,28,1]))\n",
        "print(z)\n",
        "#z = np.array([[0.21082003,0.06122002]])\n",
        "decoded.imshow(vae.decoder.predict(z).reshape((28,28)))\n",
        "\n",
        "plt.show()"
      ],
      "metadata": {
        "colab": {
          "base_uri": "https://localhost:8080/",
          "height": 285
        },
        "id": "q_LEIpOlg0Hl",
        "outputId": "903f1ef1-6bb9-46de-9fb1-ed1f4be68884"
      },
      "execution_count": null,
      "outputs": [
        {
          "output_type": "stream",
          "name": "stdout",
          "text": [
            "[[ 0.5917537  -1.0304397   0.52944475]]\n"
          ]
        },
        {
          "output_type": "display_data",
          "data": {
            "text/plain": [
              "<Figure size 432x288 with 2 Axes>"
            ],
            "image/png": "[encoded data removed]"
          },
          "metadata": {
            "needs_background": "light"
          }
        }
      ]
    }
  ]
}